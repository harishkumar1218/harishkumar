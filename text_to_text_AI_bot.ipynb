{
  "nbformat": 4,
  "nbformat_minor": 0,
  "metadata": {
    "colab": {
      "provenance": [],
      "gpuType": "T4",
      "authorship_tag": "ABX9TyMOIMEwterEm406KQGbRb0v",
      "include_colab_link": true
    },
    "kernelspec": {
      "name": "python3",
      "display_name": "Python 3"
    },
    "language_info": {
      "name": "python"
    },
    "accelerator": "GPU"
  },
  "cells": [
    {
      "cell_type": "markdown",
      "metadata": {
        "id": "view-in-github",
        "colab_type": "text"
      },
      "source": [
        "<a href=\"https://colab.research.google.com/github/harishkumar1218/harishkumar/blob/main/text_to_text_AI_bot.ipynb\" target=\"_parent\"><img src=\"https://colab.research.google.com/assets/colab-badge.svg\" alt=\"Open In Colab\"/></a>"
      ]
    },
    {
      "cell_type": "code",
      "execution_count": 1,
      "metadata": {
        "id": "xtwFg6JLRRay"
      },
      "outputs": [],
      "source": [
        "import tensorflow as tf\n",
        "from transformers import TFGPT2LMHeadModel, GPT2Tokenizer\n",
        "\n"
      ]
    },
    {
      "cell_type": "code",
      "source": [
        "import pandas as pd\n",
        "\n",
        "df = pd.read_csv('/content/sample_data/Conversation.csv') #downlaod csv from https://www.kaggle.com/datasets/kreeshrajani/3k-conversations-dataset-for-chatbot and its path\n",
        "\n",
        "\n",
        "input_text = [x for x in df['question']]\n",
        "output_text = [x for x in df['answer']]\n"
      ],
      "metadata": {
        "id": "IOfnnDCtZvGo"
      },
      "execution_count": 2,
      "outputs": []
    },
    {
      "cell_type": "code",
      "source": [
        "\n",
        "tokenizer = GPT2Tokenizer.from_pretrained('gpt2')\n",
        "tokenizer.pad_token = tokenizer.eos_token\n",
        "\n",
        "tokenized_inputs = tokenizer(input_text, return_tensors=\"tf\", padding=True, truncation=True)\n",
        "tokenized_outputs = tokenizer(output_text, return_tensors=\"tf\", padding=True, truncation=True)\n"
      ],
      "metadata": {
        "id": "azofG4SLZzHg"
      },
      "execution_count": null,
      "outputs": []
    },
    {
      "cell_type": "code",
      "source": [
        "\n",
        "input_ids = tf.convert_to_tensor(tokenized_inputs[\"input_ids\"])\n",
        "output_ids = tf.convert_to_tensor(tokenized_outputs[\"input_ids\"])\n",
        "\n",
        "training_dataset = tf.data.Dataset.from_tensor_slices((input_ids, output_ids))\n"
      ],
      "metadata": {
        "id": "RbblFLInZ8ec"
      },
      "execution_count": 4,
      "outputs": []
    },
    {
      "cell_type": "code",
      "source": [
        "\n",
        "model = TFGPT2LMHeadModel.from_pretrained('gpt2')\n",
        "\n",
        "optimizer = tf.keras.optimizers.Adam(learning_rate=1e-4)\n",
        "loss = tf.keras.losses.SparseCategoricalCrossentropy(from_logits=True)\n",
        "model.compile(optimizer=optimizer, loss=loss)\n",
        "\n",
        "model.fit(training_dataset, epochs=5, batch_size=4) #increse epochs for more accuracy may be 10. it takes lot of time.\n"
      ],
      "metadata": {
        "id": "rF0zRp7EZ-X1"
      },
      "execution_count": null,
      "outputs": []
    },
    {
      "cell_type": "code",
      "source": [
        "model.save_pretrained('sylvie_ai_tf')#saving my model as sylvie from loki web serise"
      ],
      "metadata": {
        "id": "AySctSZ3b1FV"
      },
      "execution_count": 21,
      "outputs": []
    },
    {
      "cell_type": "code",
      "source": [
        "tokenizer = GPT2Tokenizer.from_pretrained('gpt2')\n",
        "model = TFGPT2LMHeadModel.from_pretrained('/content/sylvie_ai_tf')#path to model\n",
        "\n",
        "tokenizer.pad_token_id = tokenizer.eos_token_id\n",
        "user_input = \"how's it going?\"\n",
        "input_ids = tokenizer.encode(user_input, return_tensors='tf')\n",
        "\n",
        "\n",
        "attention_mask = tf.ones(input_ids.shape, dtype=tf.int32)\n",
        "\n",
        "generated_output = model.generate(input_ids, attention_mask=attention_mask, max_length=200, num_return_sequences=1)\n",
        "print(generated_output)\n",
        "\n",
        "decoded_output = tokenizer.decode(generated_output[0], skip_special_tokens=True)\n",
        "print(decoded_output)"
      ],
      "metadata": {
        "colab": {
          "base_uri": "https://localhost:8080/"
        },
        "id": "p--oFQNraBH8",
        "outputId": "96ae1929-ff6d-4ab4-9bee-e52885c6efea"
      },
      "execution_count": 27,
      "outputs": [
        {
          "output_type": "stream",
          "name": "stderr",
          "text": [
            "All model checkpoint layers were used when initializing TFGPT2LMHeadModel.\n",
            "\n",
            "All the layers of TFGPT2LMHeadModel were initialized from the model checkpoint at /content/sylvie_ai_tf.\n",
            "If your task is similar to the task the model of the checkpoint was trained on, you can already use TFGPT2LMHeadModel for predictions without further training.\n",
            "Setting `pad_token_id` to `eos_token_id`:50256 for open-end generation.\n"
          ]
        },
        {
          "output_type": "stream",
          "name": "stdout",
          "text": [
            "tf.Tensor([[ 4919   338   340  1016    30    13    13    13    13 50256]], shape=(1, 10), dtype=int32)\n",
            "how's it going?....\n"
          ]
        }
      ]
    }
  ]
}